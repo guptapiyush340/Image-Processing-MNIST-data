{
 "cells": [
  {
   "cell_type": "markdown",
   "metadata": {
    "collapsed": false
   },
   "source": [
    "# Scorecard image processing"
   ]
  },
  {
   "cell_type": "code",
   "execution_count": 1,
   "metadata": {
    "collapsed": false
   },
   "outputs": [],
   "source": [
    "import numpy as np\n",
    "import cv2\n",
    "from PIL import Image"
   ]
  },
  {
   "cell_type": "code",
   "execution_count": 5,
   "metadata": {
    "collapsed": false
   },
   "outputs": [
    {
     "data": {
      "text/plain": [
       "-1"
      ]
     },
     "execution_count": 5,
     "metadata": {},
     "output_type": "execute_result"
    }
   ],
   "source": [
    "img=cv2.imread('scorecard1.jpg',0) #to read image in grayscale\n",
    "img=cv2.resize(img,(960,540)) # to resize image to fit the display\n",
    "cv2.imshow('abc',img)  # to show image as output\n",
    "cv2.waitKey(0) # waitkey to stop display"
   ]
  },
  {
   "cell_type": "code",
   "execution_count": 3,
   "metadata": {
    "collapsed": false
   },
   "outputs": [
    {
     "data": {
      "text/plain": [
       "-1"
      ]
     },
     "execution_count": 3,
     "metadata": {},
     "output_type": "execute_result"
    }
   ],
   "source": [
    "ret,thresh = cv2.threshold(img,150,255,cv2.THRESH_BINARY) # to find threshold on the basis of black white intensity\n",
    "cv2.imshow('def',thresh)\n",
    "cv2.waitKey(0)"
   ]
  },
  {
   "cell_type": "code",
   "execution_count": 4,
   "metadata": {
    "collapsed": false
   },
   "outputs": [
    {
     "data": {
      "text/plain": [
       "-1"
      ]
     },
     "execution_count": 4,
     "metadata": {},
     "output_type": "execute_result"
    }
   ],
   "source": [
    "th2 = cv2.adaptiveThreshold(img,255,cv2.ADAPTIVE_THRESH_GAUSSIAN_C,\\\n",
    "        cv2.THRESH_BINARY,11,2) #adaptive threshold to get threshold at small regions\n",
    "cv2.imshow('ghi',th2)\n",
    "cv2.waitKey(0)"
   ]
  },
  {
   "cell_type": "code",
   "execution_count": 6,
   "metadata": {
    "collapsed": false
   },
   "outputs": [
    {
     "data": {
      "text/plain": [
       "-1"
      ]
     },
     "execution_count": 6,
     "metadata": {},
     "output_type": "execute_result"
    }
   ],
   "source": [
    "blur = cv2.GaussianBlur(img,(5,5),0)\n",
    "ret3,th3 = cv2.threshold(blur,0,255,cv2.THRESH_BINARY+cv2.THRESH_OTSU) # otsu's binariztion, automatically choose threshold\n",
    "cv2.imshow('jkl',th3)\n",
    "cv2.waitKey(0)"
   ]
  },
  {
   "cell_type": "code",
   "execution_count": 6,
   "metadata": {
    "collapsed": false
   },
   "outputs": [
    {
     "data": {
      "text/plain": [
       "-1"
      ]
     },
     "execution_count": 6,
     "metadata": {},
     "output_type": "execute_result"
    }
   ],
   "source": [
    "blur = cv2.GaussianBlur(img,(3,3),0)  # use gaussian blur to reduce noise in the image\n",
    "v=int(np.median(img))  #take median of the img\n",
    "sigma=0.33\n",
    "lower = max(0, (1.0 - sigma) * v)\n",
    "lower=int(lower)\n",
    "upper = min(255, (1.0 + sigma) * v)\n",
    "upper=int(upper)\n",
    "edges = cv2.Canny(blur,lower-200,upper)\n",
    "cv2.imshow('mno',edges)\n",
    "cv2.waitKey(0)\n"
   ]
  },
  {
   "cell_type": "code",
   "execution_count": 7,
   "metadata": {
    "collapsed": false
   },
   "outputs": [
    {
     "data": {
      "text/plain": [
       "-1"
      ]
     },
     "execution_count": 7,
     "metadata": {},
     "output_type": "execute_result"
    }
   ],
   "source": [
    "(cnts, _) = cv2.findContours(edges, cv2.RETR_TREE, cv2.CHAIN_APPROX_SIMPLE)\n",
    "cnts = sorted(cnts, key = cv2.contourArea, reverse = True)[:10]\n",
    "cnt1=cnts[0]\n",
    "x,y,w,h = cv2.boundingRect(cnt1)\n",
    "crop=img[y:y+h,x:x+w]\n",
    "cv2.imshow('pqr',crop)\n",
    "cv2.waitKey(0)"
   ]
  },
  {
   "cell_type": "markdown",
   "metadata": {},
   "source": [
    "0 to 0.1 - accout names and date\n",
    "0.23 to 0.35 - first line\n",
    "0.35 to 0.47 - secondline\n",
    "0.47 to 0.6- third line\n",
    "\n",
    "\n",
    "\n"
   ]
  },
  {
   "cell_type": "markdown",
   "metadata": {},
   "source": [
    "codes can be used further"
   ]
  },
  {
   "cell_type": "markdown",
   "metadata": {
    "collapsed": false
   },
   "source": [
    "\n",
    "crop_blur = cv2.GaussianBlur(crop,(3,3),0)  # use gaussian blur to reduce noise in the image\n",
    "v=int(np.median(crop))  #take median of the img\n",
    "sigma=0.33\n",
    "lower = max(0, (1.0 - sigma) * v)\n",
    "lower=int(lower)\n",
    "upper = min(255, (1.0 + sigma) * v)\n",
    "upper=int(upper)\n",
    "crop_edges = cv2.Canny(crop_blur,lower-100,upper)\n",
    "cv2.imshow('mno',crop_edges)\n",
    "cv2.waitKey(0)"
   ]
  },
  {
   "cell_type": "markdown",
   "metadata": {
    "collapsed": false
   },
   "source": [
    "(crop_cnts, _) = cv2.findContours(crop_edges, cv2.RETR_TREE, cv2.CHAIN_APPROX_SIMPLE)\n",
    "crop_cnts = sorted(crop_cnts, key = cv2.contourArea, reverse = True)[:20]\n",
    "crop_cnts1=crop_cnts[3]\n",
    "x,y,w,h = cv2.boundingRect(crop_cnts1)\n",
    "crop_cnts1=img[y:y+h,x:x+w]\n",
    "cv2.imshow('pqr',crop_cnts1)\n",
    "cv2.waitKey(0)"
   ]
  },
  {
   "cell_type": "markdown",
   "metadata": {
    "collapsed": false
   },
   "source": [
    "(crop_cnts, _) = cv2.findContours(crop_edges, cv2.RETR_TREE, cv2.CHAIN_APPROX_SIMPLE)\n",
    "crop_cnts = sorted(crop_cnts, key = cv2.contourArea, reverse = True)[:20]\n",
    "i=0\n",
    "for cnt in crop_cnts:\n",
    "    approx = cv2.approxPolyDP(cnt,0.01*cv2.arcLength(cnt,True),True)\n",
    "    print len(approx)\n",
    "    if len(approx)==4:\n",
    "        cnt_filter[i]=cnt\n",
    "        i=i+1"
   ]
  },
  {
   "cell_type": "code",
   "execution_count": 8,
   "metadata": {
    "collapsed": false
   },
   "outputs": [
    {
     "name": "stderr",
     "output_type": "stream",
     "text": [
      "C:\\Anaconda2\\lib\\site-packages\\ipykernel\\__main__.py:15: VisibleDeprecationWarning: using a non-integer number instead of an integer will result in an error in the future\n"
     ]
    }
   ],
   "source": [
    "array_img=[]\n",
    "x=4\n",
    "y=6\n",
    "(h_full, w_full) = crop.shape\n",
    "h=0.23\n",
    "for a in range(y):\n",
    "    height1=h*h_full\n",
    "    height2=(h+0.12)*h_full\n",
    "    w=0.02\n",
    "    list_temp=[]\n",
    "    for b in range(x):\n",
    "        width1=w*w_full\n",
    "        width2=(w+0.24)*w_full\n",
    "        if width2<1.05*w_full:     \n",
    "            im = crop[height1:height2,width1:width2]\n",
    "            \n",
    "            #blur = cv2.GaussianBlur(im,(3,3),0)\n",
    "            #ret3,th3 = cv2.threshold(blur,200,255,cv2.THRESH_BINARY+cv2.THRESH_OTSU) \n",
    "            #ret,th3 = cv2.threshold(blur,155,255,cv2.THRESH_BINARY)\n",
    "            \n",
    "            cv2.imwrite(str(a) + str(b) + \"pic.png\",im)\n",
    "            cv2.imshow('mno',im)\n",
    "            cv2.waitKey(0)\n",
    "            list_temp.append(im)\n",
    "            w=w+0.24\n",
    "            \n",
    "    array_img.append(list_temp)\n",
    "    h=h+0.12"
   ]
  },
  {
   "cell_type": "code",
   "execution_count": null,
   "metadata": {
    "collapsed": true
   },
   "outputs": [],
   "source": []
  }
 ],
 "metadata": {
  "anaconda-cloud": {},
  "kernelspec": {
   "display_name": "Python [Root]",
   "language": "python",
   "name": "Python [Root]"
  },
  "language_info": {
   "codemirror_mode": {
    "name": "ipython",
    "version": 2
   },
   "file_extension": ".py",
   "mimetype": "text/x-python",
   "name": "python",
   "nbconvert_exporter": "python",
   "pygments_lexer": "ipython2",
   "version": "2.7.12"
  }
 },
 "nbformat": 4,
 "nbformat_minor": 0
}
